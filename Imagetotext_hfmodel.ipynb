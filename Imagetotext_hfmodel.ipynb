{
  "nbformat": 4,
  "nbformat_minor": 0,
  "metadata": {
    "colab": {
      "provenance": []
    },
    "kernelspec": {
      "name": "python3",
      "display_name": "Python 3"
    },
    "language_info": {
      "name": "python"
    }
  },
  "cells": [
    {
      "cell_type": "code",
      "source": [
        "import requests"
      ],
      "metadata": {
        "id": "qSElRmp9a0eH"
      },
      "execution_count": null,
      "outputs": []
    },
    {
      "cell_type": "code",
      "source": [
        "import os"
      ],
      "metadata": {
        "id": "Y3U79xGscL3I"
      },
      "execution_count": null,
      "outputs": []
    },
    {
      "cell_type": "code",
      "source": [
        "!pip install python-dotenv"
      ],
      "metadata": {
        "colab": {
          "base_uri": "https://localhost:8080/"
        },
        "id": "s1kIi9aAwHGx",
        "outputId": "c6089a82-5779-479f-b8d8-8ea17ece7076"
      },
      "execution_count": null,
      "outputs": [
        {
          "output_type": "stream",
          "name": "stdout",
          "text": [
            "Requirement already satisfied: python-dotenv in /usr/local/lib/python3.10/dist-packages (1.0.1)\n"
          ]
        }
      ]
    },
    {
      "cell_type": "code",
      "execution_count": null,
      "metadata": {
        "id": "U6obuBdBsZ9N"
      },
      "outputs": [],
      "source": [
        "from dotenv import find_dotenv, load_dotenv\n",
        "from transformers import pipeline"
      ]
    },
    {
      "cell_type": "code",
      "source": [
        "!pip install langchain"
      ],
      "metadata": {
        "colab": {
          "base_uri": "https://localhost:8080/"
        },
        "id": "zoT0ujltbpVQ",
        "outputId": "21bf9f28-7f10-42e4-cc1e-44d214bc1283"
      },
      "execution_count": null,
      "outputs": [
        {
          "output_type": "stream",
          "name": "stdout",
          "text": [
            "Requirement already satisfied: langchain in /usr/local/lib/python3.10/dist-packages (0.1.16)\n",
            "Requirement already satisfied: PyYAML>=5.3 in /usr/local/lib/python3.10/dist-packages (from langchain) (6.0.1)\n",
            "Requirement already satisfied: SQLAlchemy<3,>=1.4 in /usr/local/lib/python3.10/dist-packages (from langchain) (2.0.29)\n",
            "Requirement already satisfied: aiohttp<4.0.0,>=3.8.3 in /usr/local/lib/python3.10/dist-packages (from langchain) (3.9.5)\n",
            "Requirement already satisfied: async-timeout<5.0.0,>=4.0.0 in /usr/local/lib/python3.10/dist-packages (from langchain) (4.0.3)\n",
            "Requirement already satisfied: dataclasses-json<0.7,>=0.5.7 in /usr/local/lib/python3.10/dist-packages (from langchain) (0.6.4)\n",
            "Requirement already satisfied: jsonpatch<2.0,>=1.33 in /usr/local/lib/python3.10/dist-packages (from langchain) (1.33)\n",
            "Requirement already satisfied: langchain-community<0.1,>=0.0.32 in /usr/local/lib/python3.10/dist-packages (from langchain) (0.0.34)\n",
            "Requirement already satisfied: langchain-core<0.2.0,>=0.1.42 in /usr/local/lib/python3.10/dist-packages (from langchain) (0.1.45)\n",
            "Requirement already satisfied: langchain-text-splitters<0.1,>=0.0.1 in /usr/local/lib/python3.10/dist-packages (from langchain) (0.0.1)\n",
            "Requirement already satisfied: langsmith<0.2.0,>=0.1.17 in /usr/local/lib/python3.10/dist-packages (from langchain) (0.1.49)\n",
            "Requirement already satisfied: numpy<2,>=1 in /usr/local/lib/python3.10/dist-packages (from langchain) (1.25.2)\n",
            "Requirement already satisfied: pydantic<3,>=1 in /usr/local/lib/python3.10/dist-packages (from langchain) (2.7.0)\n",
            "Requirement already satisfied: requests<3,>=2 in /usr/local/lib/python3.10/dist-packages (from langchain) (2.31.0)\n",
            "Requirement already satisfied: tenacity<9.0.0,>=8.1.0 in /usr/local/lib/python3.10/dist-packages (from langchain) (8.2.3)\n",
            "Requirement already satisfied: aiosignal>=1.1.2 in /usr/local/lib/python3.10/dist-packages (from aiohttp<4.0.0,>=3.8.3->langchain) (1.3.1)\n",
            "Requirement already satisfied: attrs>=17.3.0 in /usr/local/lib/python3.10/dist-packages (from aiohttp<4.0.0,>=3.8.3->langchain) (23.2.0)\n",
            "Requirement already satisfied: frozenlist>=1.1.1 in /usr/local/lib/python3.10/dist-packages (from aiohttp<4.0.0,>=3.8.3->langchain) (1.4.1)\n",
            "Requirement already satisfied: multidict<7.0,>=4.5 in /usr/local/lib/python3.10/dist-packages (from aiohttp<4.0.0,>=3.8.3->langchain) (6.0.5)\n",
            "Requirement already satisfied: yarl<2.0,>=1.0 in /usr/local/lib/python3.10/dist-packages (from aiohttp<4.0.0,>=3.8.3->langchain) (1.9.4)\n",
            "Requirement already satisfied: marshmallow<4.0.0,>=3.18.0 in /usr/local/lib/python3.10/dist-packages (from dataclasses-json<0.7,>=0.5.7->langchain) (3.21.1)\n",
            "Requirement already satisfied: typing-inspect<1,>=0.4.0 in /usr/local/lib/python3.10/dist-packages (from dataclasses-json<0.7,>=0.5.7->langchain) (0.9.0)\n",
            "Requirement already satisfied: jsonpointer>=1.9 in /usr/local/lib/python3.10/dist-packages (from jsonpatch<2.0,>=1.33->langchain) (2.4)\n",
            "Requirement already satisfied: packaging<24.0,>=23.2 in /usr/local/lib/python3.10/dist-packages (from langchain-core<0.2.0,>=0.1.42->langchain) (23.2)\n",
            "Requirement already satisfied: orjson<4.0.0,>=3.9.14 in /usr/local/lib/python3.10/dist-packages (from langsmith<0.2.0,>=0.1.17->langchain) (3.10.1)\n",
            "Requirement already satisfied: annotated-types>=0.4.0 in /usr/local/lib/python3.10/dist-packages (from pydantic<3,>=1->langchain) (0.6.0)\n",
            "Requirement already satisfied: pydantic-core==2.18.1 in /usr/local/lib/python3.10/dist-packages (from pydantic<3,>=1->langchain) (2.18.1)\n",
            "Requirement already satisfied: typing-extensions>=4.6.1 in /usr/local/lib/python3.10/dist-packages (from pydantic<3,>=1->langchain) (4.11.0)\n",
            "Requirement already satisfied: charset-normalizer<4,>=2 in /usr/local/lib/python3.10/dist-packages (from requests<3,>=2->langchain) (3.3.2)\n",
            "Requirement already satisfied: idna<4,>=2.5 in /usr/local/lib/python3.10/dist-packages (from requests<3,>=2->langchain) (3.7)\n",
            "Requirement already satisfied: urllib3<3,>=1.21.1 in /usr/local/lib/python3.10/dist-packages (from requests<3,>=2->langchain) (2.0.7)\n",
            "Requirement already satisfied: certifi>=2017.4.17 in /usr/local/lib/python3.10/dist-packages (from requests<3,>=2->langchain) (2024.2.2)\n",
            "Requirement already satisfied: greenlet!=0.4.17 in /usr/local/lib/python3.10/dist-packages (from SQLAlchemy<3,>=1.4->langchain) (3.0.3)\n",
            "Requirement already satisfied: mypy-extensions>=0.3.0 in /usr/local/lib/python3.10/dist-packages (from typing-inspect<1,>=0.4.0->dataclasses-json<0.7,>=0.5.7->langchain) (1.0.0)\n"
          ]
        }
      ]
    },
    {
      "cell_type": "code",
      "source": [
        "from langchain import PromptTemplate, LLMChain, OpenAI"
      ],
      "metadata": {
        "id": "hsfQ8m91blw4"
      },
      "execution_count": null,
      "outputs": []
    },
    {
      "cell_type": "code",
      "source": [
        "HUGGINGFACEHUB_API_TOKEN = os.getenv(\"API_kEY\")"
      ],
      "metadata": {
        "id": "HBQEJfueb41e"
      },
      "execution_count": null,
      "outputs": []
    },
    {
      "cell_type": "code",
      "source": [
        "load_dotenv(find_dotenv())"
      ],
      "metadata": {
        "colab": {
          "base_uri": "https://localhost:8080/"
        },
        "id": "DlDsZCCqwIwQ",
        "outputId": "d9896e80-c1bd-4c95-d164-4a04c540d326"
      },
      "execution_count": null,
      "outputs": [
        {
          "output_type": "execute_result",
          "data": {
            "text/plain": [
              "False"
            ]
          },
          "metadata": {},
          "execution_count": 34
        }
      ]
    },
    {
      "cell_type": "code",
      "source": [
        "def img2text(url) :\n",
        "  image_to_text = pipeline(\"image-to-text\", model=\"Salesforce/blip-image-captioning-base\")\n",
        "  text = image_to_text(url) [0] [\"generated_text\"]\n",
        "  print(text)\n",
        "  return text"
      ],
      "metadata": {
        "id": "Hr5r__1Y01jH"
      },
      "execution_count": null,
      "outputs": []
    },
    {
      "cell_type": "code",
      "source": [
        "scenarioo = img2text(\"/content/Office.png\")\n",
        "scenarioo"
      ],
      "metadata": {
        "colab": {
          "base_uri": "https://localhost:8080/",
          "height": 109
        },
        "id": "K4isVTTaZdpf",
        "outputId": "284fbb78-46bd-4713-e5f2-5283cd57a00f"
      },
      "execution_count": null,
      "outputs": [
        {
          "output_type": "stream",
          "name": "stderr",
          "text": [
            "/usr/local/lib/python3.10/dist-packages/transformers/generation/utils.py:1141: UserWarning: Using the model-agnostic default `max_length` (=20) to control the generation length. We recommend setting `max_new_tokens` to control the maximum length of the generation.\n",
            "  warnings.warn(\n"
          ]
        },
        {
          "output_type": "stream",
          "name": "stdout",
          "text": [
            "a dark room with a desk and a computer\n"
          ]
        },
        {
          "output_type": "execute_result",
          "data": {
            "text/plain": [
              "'a dark room with a desk and a computer'"
            ],
            "application/vnd.google.colaboratory.intrinsic+json": {
              "type": "string"
            }
          },
          "metadata": {},
          "execution_count": 42
        }
      ]
    },
    {
      "cell_type": "code",
      "source": [
        "!pip install gTTS\n",
        "\n",
        "from gtts import gTTS\n",
        "from IPython.display import Audio"
      ],
      "metadata": {
        "colab": {
          "base_uri": "https://localhost:8080/"
        },
        "id": "itnXFgihkHPG",
        "outputId": "7d0d76c1-5565-4858-c17c-286adfcb2a89"
      },
      "execution_count": null,
      "outputs": [
        {
          "output_type": "stream",
          "name": "stdout",
          "text": [
            "Requirement already satisfied: gTTS in /usr/local/lib/python3.10/dist-packages (2.5.1)\n",
            "Requirement already satisfied: requests<3,>=2.27 in /usr/local/lib/python3.10/dist-packages (from gTTS) (2.31.0)\n",
            "Requirement already satisfied: click<8.2,>=7.1 in /usr/local/lib/python3.10/dist-packages (from gTTS) (8.1.7)\n",
            "Requirement already satisfied: charset-normalizer<4,>=2 in /usr/local/lib/python3.10/dist-packages (from requests<3,>=2.27->gTTS) (3.3.2)\n",
            "Requirement already satisfied: idna<4,>=2.5 in /usr/local/lib/python3.10/dist-packages (from requests<3,>=2.27->gTTS) (3.7)\n",
            "Requirement already satisfied: urllib3<3,>=1.21.1 in /usr/local/lib/python3.10/dist-packages (from requests<3,>=2.27->gTTS) (2.0.7)\n",
            "Requirement already satisfied: certifi>=2017.4.17 in /usr/local/lib/python3.10/dist-packages (from requests<3,>=2.27->gTTS) (2024.2.2)\n"
          ]
        }
      ]
    },
    {
      "cell_type": "code",
      "source": [
        "def text_to_speech(text):\n",
        "    tts = gTTS(text=text, lang='en')\n",
        "    tts.save('output.mp3')\n",
        "    return Audio('output.mp3', autoplay=True)"
      ],
      "metadata": {
        "id": "_MrycCgbkiqf"
      },
      "execution_count": null,
      "outputs": []
    },
    {
      "cell_type": "code",
      "source": [
        "audio = text_to_speech(scenarioo)\n",
        "audio"
      ],
      "metadata": {
        "colab": {
          "base_uri": "https://localhost:8080/",
          "height": 75
        },
        "id": "XKO7IT3wkoVf",
        "outputId": "5699bc11-1977-481c-aef5-7945d6b047d3"
      },
      "execution_count": null,
      "outputs": [
        {
          "output_type": "execute_result",
          "data": {
            "text/plain": [
              "<IPython.lib.display.Audio object>"
            ],
            "text/html": [
              "\n",
              "                <audio  controls=\"controls\" autoplay=\"autoplay\">\n",
              "                    <source src=\"data:audio/mpeg;base64,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\" type=\"audio/mpeg\" />\n",
              "                    Your browser does not support the audio element.\n",
              "                </audio>\n",
              "              "
            ]
          },
          "metadata": {},
          "execution_count": 57
        }
      ]
    }
  ]
}