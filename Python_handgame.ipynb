{
  "nbformat": 4,
  "nbformat_minor": 0,
  "metadata": {
    "colab": {
      "provenance": []
    },
    "kernelspec": {
      "name": "python3",
      "display_name": "Python 3"
    },
    "language_info": {
      "name": "python"
    }
  },
  "cells": [
    {
      "cell_type": "code",
      "execution_count": 73,
      "metadata": {
        "id": "VCDkmxZGhyr6",
        "colab": {
          "base_uri": "https://localhost:8080/"
        },
        "outputId": "6e2df359-b2ca-476a-80c5-90b02e212452"
      },
      "outputs": [
        {
          "output_type": "stream",
          "name": "stdout",
          "text": [
            "Write your choice: stone\n",
            "User's Choice =  stone\n",
            "Computer's Choice =  paper\n",
            "You Lost\n",
            "play more yes\n",
            "Write your choice: paper\n",
            "User's Choice =  paper\n",
            "Computer's Choice =  scissor\n",
            "Invalid\n",
            "play more yes\n",
            "Write your choice: scissor\n",
            "User's Choice =  scissor\n",
            "Computer's Choice =  paper\n",
            "You Won\n",
            "play more yes\n",
            "Write your choice: stobe\n",
            "User's Choice =  stobe\n",
            "Computer's Choice =  scissor\n",
            "Invalid\n",
            "play more nope\n",
            "Invalid\n"
          ]
        }
      ],
      "source": [
        "import random\n",
        "\n",
        "def play():\n",
        "    def funct():\n",
        "        choices = [\"stone\", \"paper\", \"scissor\"]\n",
        "        finger = random.choice(choices)\n",
        "        return finger\n",
        "\n",
        "    comp_choice = funct()\n",
        "\n",
        "    user = input(\"Write your choice: \")\n",
        "    print('User\\'s Choice = ', user)\n",
        "    print('Computer\\'s Choice = ', comp_choice)\n",
        "\n",
        "    def loop():\n",
        "        if user == comp_choice:\n",
        "            print(\"It is a Tie\")\n",
        "        elif user == \"scissor\" and comp_choice == \"scissor\":\n",
        "            print(\"It is a Tie\")\n",
        "        elif user == \"paper\" and comp_choice == \"paper\":\n",
        "            print(\"It is a Tie\")\n",
        "        elif user == \"scissor\" and comp_choice == \"stone\":\n",
        "            print(\"You Lost\")\n",
        "        elif user == \"scissor\" and comp_choice == \"paper\":\n",
        "            print(\"You Won\")\n",
        "        elif user == \"stone\" and comp_choice == \"paper\":\n",
        "            print(\"You Lost\")\n",
        "        elif user == \"stone\" and comp_choice == \"scissor\":\n",
        "            print(\"You Won\")\n",
        "        elif user == \"stone\" and comp_choice == \"paper\":\n",
        "            print(\"You Lost\")\n",
        "        elif user == \"stone\" and comp_choice == \"scissor\":\n",
        "            print(\"You Won\")\n",
        "        else:\n",
        "          print(\"Invalid\")\n",
        "\n",
        "    loop()\n",
        "\n",
        "    ask = input(\"play more \")\n",
        "    ask\n",
        "    if ask == \"yes\" :\n",
        "      play()\n",
        "    elif ask == \"no\":\n",
        "      print(\"Thanks for playing \")\n",
        "    else:\n",
        "      print(\"Invalid\")\n",
        "\n",
        "\n",
        "play()\n"
      ]
    }
  ]
}